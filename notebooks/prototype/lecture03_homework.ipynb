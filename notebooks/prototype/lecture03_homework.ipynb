{
 "cells": [
  {
   "cell_type": "markdown",
   "metadata": {
    "id": "MUWcdth_khfN"
   },
   "source": [
    "# 第3回講義 宿題"
   ]
  },
  {
   "cell_type": "markdown",
   "metadata": {
    "id": "gAjuP7I4lWyn"
   },
   "source": [
    "## 課題\n",
    "\n",
    "今回のLessonで学んだことを元に，MNISTのファッション版 (Fashion MNIST，クラス数10) を多層パーセプトロンによって分類してみましょう．\n",
    "\n",
    "Fashion MNISTの詳細については以下のリンクを参考にしてください．\n",
    "\n",
    "Fashion MNIST: https://github.com/zalandoresearch/fashion-mnist"
   ]
  },
  {
   "cell_type": "markdown",
   "metadata": {
    "id": "Cpiz19GRlZ_9"
   },
   "source": [
    "### 目標値\n",
    "\n",
    "Accuracy 85%"
   ]
  },
  {
   "cell_type": "markdown",
   "metadata": {
    "id": "qSHeI_utleEN"
   },
   "source": [
    "### ルール\n",
    "\n",
    "- 訓練データは`x_train`， `t_train`，テストデータは`x_test`で与えられます．\n",
    "- 予測ラベルは one_hot表現ではなく0~9のクラスラベル で表してください．\n",
    "- **下のセルで指定されている`x_train`，`t_train`以外の学習データは使わないでください．**\n",
    "- **多層パーセプトロンのアルゴリズム部分は第3回の演習を参考に，NumPyのみで実装してください．** (sklearnやtensorflowなどは使用しないでください)．\n",
    "    - データの前処理部分でsklearnの関数を使う (例えば `sklearn.model_selection.train_test_split`) のは問題ありません．"
   ]
  },
  {
   "cell_type": "markdown",
   "metadata": {
    "id": "diuec-_YluI6"
   },
   "source": [
    "### 提出方法\n",
    "- 2つのファイルを提出していただきます．\n",
    "    1. テストデータ (`x_test`) に対する予測ラベルを`submission_pred.csv`として保存し，**Omnicampusの宿題タブから「第3回 ニューラルネットワーク基礎」を選択して**提出してください．\n",
    "    2. それに対応するpythonのコードを`submission_code.py`として保存し，**Omnicampusの宿題タブから「第3回 ニューラルネットワーク基礎 (code)」を選択して**提出してください．pythonファイル自体の提出ではなく，「提出内容」の部分にコードをコピー&ペーストしてください．\n",
    "      \n",
    "- なお，採点は1で行い，2はコードの確認用として利用します（成績優秀者はコード内容を公開させていただくかもしれません）．コードの内容を変更した場合は，**1と2の両方を提出し直してください**．"
   ]
  },
  {
   "cell_type": "markdown",
   "metadata": {
    "id": "hofSzJsVlvKp"
   },
   "source": [
    "### 評価方法\n",
    "- 予測ラベルの`t_test`に対する精度 (Accuracy) で評価します．\n",
    "- 即時採点しLeader Boardを更新します（採点スケジュールは別アナウンス）．\n",
    "- 締切時の点数を最終的な評価とします．"
   ]
  },
  {
   "cell_type": "markdown",
   "metadata": {
    "id": "YY9xMqFk8X5g"
   },
   "source": [
    "### ドライブのマウント"
   ]
  },
  {
   "cell_type": "code",
   "execution_count": 21,
   "metadata": {
    "id": "bxtkyWpYv07M"
   },
   "outputs": [],
   "source": [
    "# from google.colab import drive\n",
    "# drive.mount('/content/drive')"
   ]
  },
  {
   "cell_type": "markdown",
   "metadata": {
    "id": "Cu4cmQtelx19"
   },
   "source": [
    "### データの読み込み（このセルは修正しないでください）"
   ]
  },
  {
   "cell_type": "code",
   "execution_count": 22,
   "metadata": {
    "id": "EsLDDSUJkRx-"
   },
   "outputs": [],
   "source": [
    "import os\n",
    "import numpy as np\n",
    "import pandas as pd\n",
    "from sklearn.utils import shuffle\n",
    "from sklearn.metrics import accuracy_score\n",
    "from sklearn.model_selection import train_test_split\n",
    "import inspect\n",
    "\n",
    "\n",
    "# #学習データ\n",
    "# x_train = np.load('drive/MyDrive/Colab Notebooks/DLBasics2025_colab/Lecture03/data/x_train.npy')\n",
    "# t_train = np.load('drive/MyDrive/Colab Notebooks/DLBasics2025_colab/Lecture03/data/y_train.npy')\n",
    "\n",
    "# #テストデータ\n",
    "# x_test = np.load('drive/MyDrive/Colab Notebooks/DLBasics2025_colab/Lecture03/data/x_test.npy')\n",
    "\n",
    "x_train = np.load('../data/x_train.npy')\n",
    "t_train = np.load('../data/y_train.npy')\n",
    "\n",
    "#テストデータ\n",
    "x_test = np.load('../data/x_test.npy')\n",
    "\n",
    "\n",
    "# データの前処理（正規化， one-hot encoding)\n",
    "x_train, x_test = x_train / 255., x_test / 255.\n",
    "x_train, x_test = x_train.reshape(x_train.shape[0], -1), x_test.reshape(x_test.shape[0], -1)\n",
    "t_train = np.eye(N=10)[t_train.astype(\"int32\").flatten()]"
   ]
  },
  {
   "cell_type": "markdown",
   "metadata": {
    "id": "UrSpHDIWOfK_"
   },
   "source": [
    "### 多層パーセプトロンの実装"
   ]
  },
  {
   "cell_type": "code",
   "execution_count": 23,
   "metadata": {
    "id": "sKAe0F36nSvU"
   },
   "outputs": [],
   "source": [
    "# データの分割\n",
    "x_train, x_val, t_train, t_val =\\\n",
    "    train_test_split(x_train, t_train, test_size=10000)"
   ]
  },
  {
   "cell_type": "code",
   "execution_count": 24,
   "metadata": {
    "id": "IlzwRoG5X7ZP"
   },
   "outputs": [],
   "source": [
    "def np_log(x):\n",
    "    return np.log(np.clip(x, 1e-10, 1e+10))\n",
    "\n",
    "\n",
    "def create_batch(data, batch_size):\n",
    "    \"\"\"\n",
    "    :param data: np.ndarray，入力データ\n",
    "    :param batch_size: int，バッチサイズ\n",
    "    \"\"\"\n",
    "    num_batches, mod = divmod(data.shape[0], batch_size)\n",
    "    batched_data = np.split(data[: batch_size * num_batches], num_batches)\n",
    "    if mod:\n",
    "        batched_data.append(data[batch_size * num_batches:])\n",
    "\n",
    "    return batched_data"
   ]
  },
  {
   "cell_type": "code",
   "execution_count": 25,
   "metadata": {
    "id": "PADQiKNa2snb"
   },
   "outputs": [],
   "source": [
    "# シード値を変えることで何が起きるかも確かめてみてください．\n",
    "rng = np.random.RandomState(1234)\n",
    "random_state = 42\n",
    "\n",
    "\n",
    "# 発展: 今回の講義で扱っていない活性化関数について調べ，実装してみましょう\n",
    "def relu(x):\n",
    "    return np.maximum(x, 0)\n",
    "\n",
    "\n",
    "def deriv_relu(x):\n",
    "    return (x > 0).astype(x.dtype)\n",
    "\n",
    "def softmax(x):\n",
    "    x -= x.max(axis=1, keepdims=True)  # オーバーフローを避ける\n",
    "    x_exp = np.exp(x)\n",
    "    return x_exp / np.sum(x_exp, axis=1, keepdims=True)\n",
    "\n",
    "def deriv_softmax(x):\n",
    "    return softmax(x) * (1 - softmax(x))\n",
    "\n",
    "def crossentropy_loss(t, y):\n",
    "    return (- t * np_log(y) - (1 - t) * np_log(1 - y)).mean()\n",
    "\n",
    "class Dense:\n",
    "    def __init__(self, in_dim, out_dim, function, deriv_function):\n",
    "        self.W = np.random.uniform(low=-0.08, high=0.08,\n",
    "                                   size=(in_dim, out_dim)).astype(\"float64\")\n",
    "        self.b = np.zeros(out_dim).astype(\"float64\")\n",
    "        self.function = function\n",
    "        self.deriv_function = deriv_function\n",
    "\n",
    "        self.x = None\n",
    "        self.u = None\n",
    "\n",
    "        self.dW = None\n",
    "        self.db = None\n",
    "\n",
    "        self.params_idxs = np.cumsum([self.W.size, self.b.size])\n",
    "\n",
    "    def __call__(self, x):\n",
    "        \"\"\"\n",
    "        順伝播処理を行うメソッド．\n",
    "        x: (batch_size, in_dim_{j})\n",
    "        h: (batch_size, out_dim_{j})\n",
    "        \"\"\"\n",
    "        self.x = x\n",
    "        self.u = np.matmul(self.x, self.W) + self.b\n",
    "        h = self.function(self.u)\n",
    "        return h\n",
    "\n",
    "    def b_prop(self, delta, W):\n",
    "        \"\"\"\n",
    "        誤差逆伝播を行うメソッド．\n",
    "        delta (=delta_{j+1}): (batch_size, out_dim_{j+1})\n",
    "        W (=W_{j+1}): (out_dim_{j}, out_dim_{j+1})\n",
    "        self.delta (=delta_{j}): (batch_size, out_dim_{j})\n",
    "        \"\"\"\n",
    "        self.delta = self.deriv_function(self.u) * np.matmul(delta, W.T)\n",
    "        return self.delta\n",
    "\n",
    "    def compute_grad(self):\n",
    "        \"\"\"\n",
    "        勾配を計算するメソッド．\n",
    "        self.x: (batch_size, in_dim_{j})\n",
    "        self.delta: (batch_size, out_dim_{j})\n",
    "        self.dW: (in_dim_{j}, out_dim_{j})\n",
    "        self.db: (out_dim_{j})\n",
    "        \"\"\"\n",
    "        batch_size = self.delta.shape[0]\n",
    "\n",
    "        self.dW = np.matmul(self.x.T, self.delta) / batch_size\n",
    "        self.db = np.matmul(np.ones(batch_size), self.delta) / batch_size\n",
    "\n",
    "    def get_params(self):\n",
    "        return np.concatenate([self.W.ravel(), self.b], axis=0)\n",
    "\n",
    "    def set_params(self, params):\n",
    "        \"\"\"\n",
    "        params: List[np.ndarray, np.ndarray]\n",
    "            1つ目の要素が重みW: (in_dim, out_dim)，2つ目の要素がバイアス: (out_dim,)\n",
    "        \"\"\"\n",
    "        _W, _b = np.split(params, self.params_idxs)[:-1]\n",
    "        self.W = _W.reshape(self.W.shape)\n",
    "        self.b = _b\n",
    "\n",
    "    def get_grads(self):\n",
    "        return np.concatenate([self.dW.ravel(), self.db], axis=0)\n",
    "\n",
    "\n",
    "class Model:\n",
    "    def __init__(self, hidden_dims, activation_functions, deriv_functions):\n",
    "        \"\"\"\n",
    "        :param hiden_dims: List[int]，各層のノード数を格納したリスト．\n",
    "        :params activation_functions: List, 各層で用いる活性化関数を格納したリスト．\n",
    "        :params derive_functions: List，各層で用いる活性化関数の導関数を格納したリスト．\n",
    "        \"\"\"\n",
    "        # 各層をリストに格納していく\n",
    "        self.layers = []\n",
    "        for i in range(len(hidden_dims)-2):  # 出力層以外は同じ構造\n",
    "            self.layers.append(Dense(hidden_dims[i], hidden_dims[i+1],\n",
    "                                     activation_functions[i], deriv_functions[i]))\n",
    "        self.layers.append(Dense(hidden_dims[-2], hidden_dims[-1],\n",
    "                                 activation_functions[-1], deriv_functions[-1]))  # 出力層を追加\n",
    "\n",
    "    def __call__(self, x):\n",
    "        return self.forward(x)\n",
    "\n",
    "    def forward(self, x):\n",
    "        \"\"\"順伝播処理を行うメソッド\"\"\"\n",
    "        for layer in self.layers:\n",
    "            x = layer(x)\n",
    "        return x\n",
    "\n",
    "    def backward(self, delta):\n",
    "        \"\"\"誤差逆伝播，勾配計算を行うメソッド\"\"\"\n",
    "        batch_size = delta.shape[0]\n",
    "\n",
    "        for i, layer in enumerate(self.layers[::-1]):\n",
    "            if i == 0:  # 出力層の場合\n",
    "                layer.delta = delta  # y - t\n",
    "                layer.compute_grad()\n",
    "            else:  # 出力層以外の場合\n",
    "                delta = layer.b_prop(delta, W)  # 逆伝播\n",
    "                layer.compute_grad()  # 勾配の計算\n",
    "\n",
    "            W = layer.W\n",
    "\n",
    "    def update(self, eps=0.01):\n",
    "        \"\"\"パラメータの更新を行うメソッド\"\"\"\n",
    "        for layer in self.layers:\n",
    "            layer.W -= eps * layer.dW\n",
    "            layer.b -= eps * layer.db\n",
    "\n",
    "lr = 0.1\n",
    "n_epochs = 100\n",
    "batch_size = 128\n",
    "\n",
    "mlp = Model(hidden_dims=[784,100,100,10],\n",
    "            activation_functions=[relu, relu, softmax],\n",
    "            deriv_functions=[deriv_relu,deriv_relu,deriv_softmax])\n"
   ]
  },
  {
   "cell_type": "markdown",
   "metadata": {
    "id": "I1IXxVHfT9O9"
   },
   "source": [
    "### モデルの学習"
   ]
  },
  {
   "cell_type": "code",
   "execution_count": 26,
   "metadata": {
    "id": "iUrJQQhUlfCi"
   },
   "outputs": [
    {
     "name": "stdout",
     "output_type": "stream",
     "text": [
      "EPOCH: 0, Train [Loss: 0.146, Accuracy: 0.680], Valid [Loss: 0.122, Accuracy: 0.750]\n",
      "EPOCH: 1, Train [Loss: 0.093, Accuracy: 0.810], Valid [Loss: 0.100, Accuracy: 0.794]\n",
      "EPOCH: 2, Train [Loss: 0.081, Accuracy: 0.834], Valid [Loss: 0.078, Accuracy: 0.843]\n",
      "EPOCH: 3, Train [Loss: 0.075, Accuracy: 0.846], Valid [Loss: 0.072, Accuracy: 0.854]\n",
      "EPOCH: 4, Train [Loss: 0.070, Accuracy: 0.856], Valid [Loss: 0.072, Accuracy: 0.854]\n",
      "EPOCH: 5, Train [Loss: 0.067, Accuracy: 0.863], Valid [Loss: 0.067, Accuracy: 0.864]\n",
      "EPOCH: 6, Train [Loss: 0.065, Accuracy: 0.865], Valid [Loss: 0.066, Accuracy: 0.869]\n",
      "EPOCH: 7, Train [Loss: 0.063, Accuracy: 0.871], Valid [Loss: 0.070, Accuracy: 0.850]\n",
      "EPOCH: 8, Train [Loss: 0.060, Accuracy: 0.875], Valid [Loss: 0.075, Accuracy: 0.835]\n",
      "EPOCH: 9, Train [Loss: 0.059, Accuracy: 0.878], Valid [Loss: 0.062, Accuracy: 0.875]\n",
      "EPOCH: 10, Train [Loss: 0.058, Accuracy: 0.882], Valid [Loss: 0.070, Accuracy: 0.862]\n",
      "EPOCH: 11, Train [Loss: 0.056, Accuracy: 0.883], Valid [Loss: 0.066, Accuracy: 0.858]\n",
      "EPOCH: 12, Train [Loss: 0.055, Accuracy: 0.889], Valid [Loss: 0.065, Accuracy: 0.869]\n",
      "EPOCH: 13, Train [Loss: 0.053, Accuracy: 0.891], Valid [Loss: 0.063, Accuracy: 0.870]\n",
      "EPOCH: 14, Train [Loss: 0.053, Accuracy: 0.891], Valid [Loss: 0.060, Accuracy: 0.881]\n",
      "EPOCH: 15, Train [Loss: 0.052, Accuracy: 0.894], Valid [Loss: 0.060, Accuracy: 0.880]\n",
      "EPOCH: 16, Train [Loss: 0.051, Accuracy: 0.895], Valid [Loss: 0.063, Accuracy: 0.868]\n",
      "EPOCH: 17, Train [Loss: 0.050, Accuracy: 0.897], Valid [Loss: 0.062, Accuracy: 0.873]\n",
      "EPOCH: 18, Train [Loss: 0.049, Accuracy: 0.901], Valid [Loss: 0.058, Accuracy: 0.880]\n",
      "EPOCH: 19, Train [Loss: 0.048, Accuracy: 0.902], Valid [Loss: 0.061, Accuracy: 0.878]\n",
      "EPOCH: 20, Train [Loss: 0.047, Accuracy: 0.902], Valid [Loss: 0.059, Accuracy: 0.881]\n",
      "EPOCH: 21, Train [Loss: 0.046, Accuracy: 0.905], Valid [Loss: 0.058, Accuracy: 0.882]\n",
      "EPOCH: 22, Train [Loss: 0.045, Accuracy: 0.906], Valid [Loss: 0.056, Accuracy: 0.887]\n",
      "EPOCH: 23, Train [Loss: 0.045, Accuracy: 0.909], Valid [Loss: 0.057, Accuracy: 0.879]\n",
      "EPOCH: 24, Train [Loss: 0.044, Accuracy: 0.910], Valid [Loss: 0.060, Accuracy: 0.876]\n",
      "EPOCH: 25, Train [Loss: 0.043, Accuracy: 0.912], Valid [Loss: 0.057, Accuracy: 0.887]\n",
      "EPOCH: 26, Train [Loss: 0.043, Accuracy: 0.912], Valid [Loss: 0.057, Accuracy: 0.887]\n",
      "EPOCH: 27, Train [Loss: 0.042, Accuracy: 0.915], Valid [Loss: 0.072, Accuracy: 0.851]\n",
      "EPOCH: 28, Train [Loss: 0.042, Accuracy: 0.914], Valid [Loss: 0.060, Accuracy: 0.881]\n",
      "EPOCH: 29, Train [Loss: 0.041, Accuracy: 0.916], Valid [Loss: 0.056, Accuracy: 0.889]\n",
      "EPOCH: 30, Train [Loss: 0.041, Accuracy: 0.919], Valid [Loss: 0.058, Accuracy: 0.884]\n",
      "EPOCH: 31, Train [Loss: 0.039, Accuracy: 0.920], Valid [Loss: 0.057, Accuracy: 0.882]\n",
      "EPOCH: 32, Train [Loss: 0.039, Accuracy: 0.921], Valid [Loss: 0.060, Accuracy: 0.877]\n",
      "EPOCH: 33, Train [Loss: 0.039, Accuracy: 0.921], Valid [Loss: 0.062, Accuracy: 0.879]\n",
      "EPOCH: 34, Train [Loss: 0.038, Accuracy: 0.922], Valid [Loss: 0.060, Accuracy: 0.883]\n",
      "EPOCH: 35, Train [Loss: 0.038, Accuracy: 0.924], Valid [Loss: 0.059, Accuracy: 0.884]\n",
      "EPOCH: 36, Train [Loss: 0.037, Accuracy: 0.926], Valid [Loss: 0.061, Accuracy: 0.877]\n",
      "EPOCH: 37, Train [Loss: 0.036, Accuracy: 0.926], Valid [Loss: 0.057, Accuracy: 0.887]\n",
      "EPOCH: 38, Train [Loss: 0.036, Accuracy: 0.927], Valid [Loss: 0.056, Accuracy: 0.890]\n",
      "EPOCH: 39, Train [Loss: 0.035, Accuracy: 0.928], Valid [Loss: 0.056, Accuracy: 0.889]\n",
      "EPOCH: 40, Train [Loss: 0.035, Accuracy: 0.929], Valid [Loss: 0.059, Accuracy: 0.883]\n",
      "EPOCH: 41, Train [Loss: 0.035, Accuracy: 0.930], Valid [Loss: 0.056, Accuracy: 0.891]\n",
      "EPOCH: 42, Train [Loss: 0.034, Accuracy: 0.931], Valid [Loss: 0.056, Accuracy: 0.892]\n",
      "EPOCH: 43, Train [Loss: 0.034, Accuracy: 0.932], Valid [Loss: 0.075, Accuracy: 0.860]\n",
      "EPOCH: 44, Train [Loss: 0.033, Accuracy: 0.933], Valid [Loss: 0.068, Accuracy: 0.864]\n",
      "EPOCH: 45, Train [Loss: 0.033, Accuracy: 0.934], Valid [Loss: 0.061, Accuracy: 0.885]\n",
      "EPOCH: 46, Train [Loss: 0.032, Accuracy: 0.936], Valid [Loss: 0.061, Accuracy: 0.882]\n",
      "EPOCH: 47, Train [Loss: 0.032, Accuracy: 0.936], Valid [Loss: 0.079, Accuracy: 0.869]\n",
      "EPOCH: 48, Train [Loss: 0.032, Accuracy: 0.936], Valid [Loss: 0.063, Accuracy: 0.883]\n",
      "EPOCH: 49, Train [Loss: 0.031, Accuracy: 0.938], Valid [Loss: 0.065, Accuracy: 0.878]\n",
      "EPOCH: 50, Train [Loss: 0.031, Accuracy: 0.938], Valid [Loss: 0.057, Accuracy: 0.890]\n",
      "EPOCH: 51, Train [Loss: 0.030, Accuracy: 0.940], Valid [Loss: 0.061, Accuracy: 0.884]\n",
      "EPOCH: 52, Train [Loss: 0.030, Accuracy: 0.941], Valid [Loss: 0.057, Accuracy: 0.890]\n",
      "EPOCH: 53, Train [Loss: 0.030, Accuracy: 0.941], Valid [Loss: 0.062, Accuracy: 0.886]\n",
      "EPOCH: 54, Train [Loss: 0.029, Accuracy: 0.941], Valid [Loss: 0.060, Accuracy: 0.892]\n",
      "EPOCH: 55, Train [Loss: 0.029, Accuracy: 0.943], Valid [Loss: 0.058, Accuracy: 0.893]\n",
      "EPOCH: 56, Train [Loss: 0.029, Accuracy: 0.943], Valid [Loss: 0.059, Accuracy: 0.892]\n",
      "EPOCH: 57, Train [Loss: 0.029, Accuracy: 0.943], Valid [Loss: 0.064, Accuracy: 0.884]\n",
      "EPOCH: 58, Train [Loss: 0.028, Accuracy: 0.946], Valid [Loss: 0.066, Accuracy: 0.884]\n",
      "EPOCH: 59, Train [Loss: 0.027, Accuracy: 0.945], Valid [Loss: 0.063, Accuracy: 0.882]\n",
      "EPOCH: 60, Train [Loss: 0.027, Accuracy: 0.948], Valid [Loss: 0.062, Accuracy: 0.888]\n",
      "EPOCH: 61, Train [Loss: 0.026, Accuracy: 0.948], Valid [Loss: 0.059, Accuracy: 0.891]\n",
      "EPOCH: 62, Train [Loss: 0.026, Accuracy: 0.947], Valid [Loss: 0.060, Accuracy: 0.887]\n",
      "EPOCH: 63, Train [Loss: 0.026, Accuracy: 0.948], Valid [Loss: 0.061, Accuracy: 0.892]\n",
      "EPOCH: 64, Train [Loss: 0.025, Accuracy: 0.950], Valid [Loss: 0.066, Accuracy: 0.880]\n",
      "EPOCH: 65, Train [Loss: 0.025, Accuracy: 0.951], Valid [Loss: 0.079, Accuracy: 0.869]\n",
      "EPOCH: 66, Train [Loss: 0.025, Accuracy: 0.950], Valid [Loss: 0.068, Accuracy: 0.883]\n",
      "EPOCH: 67, Train [Loss: 0.025, Accuracy: 0.952], Valid [Loss: 0.064, Accuracy: 0.893]\n",
      "EPOCH: 68, Train [Loss: 0.024, Accuracy: 0.953], Valid [Loss: 0.066, Accuracy: 0.891]\n",
      "EPOCH: 69, Train [Loss: 0.025, Accuracy: 0.951], Valid [Loss: 0.066, Accuracy: 0.885]\n",
      "EPOCH: 70, Train [Loss: 0.024, Accuracy: 0.952], Valid [Loss: 0.065, Accuracy: 0.891]\n",
      "EPOCH: 71, Train [Loss: 0.023, Accuracy: 0.955], Valid [Loss: 0.081, Accuracy: 0.868]\n",
      "EPOCH: 72, Train [Loss: 0.023, Accuracy: 0.954], Valid [Loss: 0.069, Accuracy: 0.883]\n",
      "EPOCH: 73, Train [Loss: 0.022, Accuracy: 0.956], Valid [Loss: 0.068, Accuracy: 0.886]\n",
      "EPOCH: 74, Train [Loss: 0.022, Accuracy: 0.957], Valid [Loss: 0.068, Accuracy: 0.888]\n",
      "EPOCH: 75, Train [Loss: 0.022, Accuracy: 0.955], Valid [Loss: 0.066, Accuracy: 0.887]\n",
      "EPOCH: 76, Train [Loss: 0.023, Accuracy: 0.956], Valid [Loss: 0.067, Accuracy: 0.889]\n",
      "EPOCH: 77, Train [Loss: 0.022, Accuracy: 0.958], Valid [Loss: 0.069, Accuracy: 0.890]\n",
      "EPOCH: 78, Train [Loss: 0.022, Accuracy: 0.958], Valid [Loss: 0.069, Accuracy: 0.888]\n",
      "EPOCH: 79, Train [Loss: 0.021, Accuracy: 0.960], Valid [Loss: 0.067, Accuracy: 0.890]\n",
      "EPOCH: 80, Train [Loss: 0.020, Accuracy: 0.961], Valid [Loss: 0.068, Accuracy: 0.891]\n",
      "EPOCH: 81, Train [Loss: 0.021, Accuracy: 0.959], Valid [Loss: 0.069, Accuracy: 0.890]\n",
      "EPOCH: 82, Train [Loss: 0.020, Accuracy: 0.963], Valid [Loss: 0.069, Accuracy: 0.885]\n",
      "EPOCH: 83, Train [Loss: 0.020, Accuracy: 0.960], Valid [Loss: 0.066, Accuracy: 0.888]\n",
      "EPOCH: 84, Train [Loss: 0.020, Accuracy: 0.962], Valid [Loss: 0.070, Accuracy: 0.893]\n",
      "EPOCH: 85, Train [Loss: 0.020, Accuracy: 0.962], Valid [Loss: 0.074, Accuracy: 0.888]\n",
      "EPOCH: 86, Train [Loss: 0.019, Accuracy: 0.963], Valid [Loss: 0.071, Accuracy: 0.888]\n",
      "EPOCH: 87, Train [Loss: 0.019, Accuracy: 0.964], Valid [Loss: 0.076, Accuracy: 0.881]\n",
      "EPOCH: 88, Train [Loss: 0.019, Accuracy: 0.964], Valid [Loss: 0.071, Accuracy: 0.895]\n",
      "EPOCH: 89, Train [Loss: 0.018, Accuracy: 0.965], Valid [Loss: 0.072, Accuracy: 0.890]\n",
      "EPOCH: 90, Train [Loss: 0.018, Accuracy: 0.966], Valid [Loss: 0.075, Accuracy: 0.888]\n",
      "EPOCH: 91, Train [Loss: 0.018, Accuracy: 0.966], Valid [Loss: 0.075, Accuracy: 0.892]\n",
      "EPOCH: 92, Train [Loss: 0.017, Accuracy: 0.969], Valid [Loss: 0.072, Accuracy: 0.889]\n",
      "EPOCH: 93, Train [Loss: 0.017, Accuracy: 0.968], Valid [Loss: 0.078, Accuracy: 0.888]\n",
      "EPOCH: 94, Train [Loss: 0.017, Accuracy: 0.966], Valid [Loss: 0.079, Accuracy: 0.884]\n",
      "EPOCH: 95, Train [Loss: 0.017, Accuracy: 0.969], Valid [Loss: 0.083, Accuracy: 0.878]\n",
      "EPOCH: 96, Train [Loss: 0.017, Accuracy: 0.969], Valid [Loss: 0.080, Accuracy: 0.880]\n",
      "EPOCH: 97, Train [Loss: 0.018, Accuracy: 0.966], Valid [Loss: 0.073, Accuracy: 0.891]\n",
      "EPOCH: 98, Train [Loss: 0.016, Accuracy: 0.970], Valid [Loss: 0.081, Accuracy: 0.882]\n",
      "EPOCH: 99, Train [Loss: 0.017, Accuracy: 0.968], Valid [Loss: 0.080, Accuracy: 0.885]\n"
     ]
    }
   ],
   "source": [
    "def train_model(mlp, x_train, t_train, x_val, t_val, n_epochs=10):\n",
    "    for epoch in range(n_epochs):\n",
    "        losses_train = []\n",
    "        losses_valid = []\n",
    "        train_num = 0\n",
    "        train_true_num = 0\n",
    "        valid_num = 0\n",
    "        valid_true_num = 0\n",
    "\n",
    "        x_train, t_train = shuffle(x_train, t_train)\n",
    "        x_train_batches, t_train_batches = create_batch(x_train, batch_size), create_batch(t_train, batch_size)\n",
    "\n",
    "        x_val, t_val = shuffle(x_val, t_val)\n",
    "        x_val_batches, t_val_batches = create_batch(x_val, batch_size), create_batch(t_val, batch_size)\n",
    "\n",
    "        # モデルの訓練\n",
    "        for x, t in zip(x_train_batches, t_train_batches):\n",
    "            # 順伝播\n",
    "            y = mlp(x)\n",
    "\n",
    "            loss = crossentropy_loss(t, y)\n",
    "            losses_train.append(loss.tolist())\n",
    "\n",
    "            delta = y - t\n",
    "            mlp.backward(delta)\n",
    "\n",
    "            mlp.update(lr)\n",
    "\n",
    "            # 精度を計算\n",
    "            acc = accuracy_score(t.argmax(axis=1), y.argmax(axis=1), normalize=False)\n",
    "            train_num += x.shape[0]\n",
    "            train_true_num += acc\n",
    "\n",
    "        # モデルの評価\n",
    "        for x, t in zip(x_val_batches, t_val_batches):\n",
    "            # 順伝播\n",
    "            y = mlp(x)\n",
    "            # 損失の計算\n",
    "            loss = crossentropy_loss(t,y)\n",
    "            losses_valid.append(loss.tolist())\n",
    "\n",
    "            acc = accuracy_score(t.argmax(axis=1), y.argmax(axis=1), normalize=False)\n",
    "            valid_num += x.shape[0]\n",
    "            valid_true_num += acc\n",
    "\n",
    "        print('EPOCH: {}, Train [Loss: {:.3f}, Accuracy: {:.3f}], Valid [Loss: {:.3f}, Accuracy: {:.3f}]'.format(\n",
    "            epoch,\n",
    "            np.mean(losses_train),\n",
    "            train_true_num/train_num,\n",
    "            np.mean(losses_valid),\n",
    "            valid_true_num/valid_num\n",
    "        ))\n",
    "\n",
    "train_model(mlp, x_train, t_train, x_val, t_val, n_epochs)"
   ]
  },
  {
   "cell_type": "code",
   "execution_count": 27,
   "metadata": {
    "id": "Yq3scS5j4Rt2"
   },
   "outputs": [],
   "source": [
    "t_pred = []\n",
    "for x in x_test:\n",
    "    # 順伝播\n",
    "    x = x[np.newaxis, :]\n",
    "    y = mlp(x)\n",
    "\n",
    "    # モデルの出力を予測値のスカラーに変換\n",
    "    pred = y.argmax(1).tolist()\n",
    "\n",
    "    t_pred.extend(pred)\n",
    "\n",
    "submission = pd.Series(t_pred, name='label')\n",
    "submission.to_csv('./submission_pred.csv', header=True, index_label='id')"
   ]
  }
 ],
 "metadata": {
  "colab": {
   "provenance": [],
   "toc_visible": true
  },
  "gpuClass": "standard",
  "kernelspec": {
   "display_name": "base",
   "language": "python",
   "name": "python3"
  },
  "language_info": {
   "codemirror_mode": {
    "name": "ipython",
    "version": 3
   },
   "file_extension": ".py",
   "mimetype": "text/x-python",
   "name": "python",
   "nbconvert_exporter": "python",
   "pygments_lexer": "ipython3",
   "version": "3.12.7"
  }
 },
 "nbformat": 4,
 "nbformat_minor": 0
}
